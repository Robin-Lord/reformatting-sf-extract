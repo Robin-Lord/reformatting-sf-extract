{
 "cells": [
  {
   "cell_type": "code",
   "execution_count": null,
   "metadata": {
    "collapsed": true
   },
   "outputs": [],
   "source": [
    "import pandas as pd"
   ]
  },
  {
   "cell_type": "code",
   "execution_count": null,
   "metadata": {
    "collapsed": false
   },
   "outputs": [],
   "source": [
    "# Accessing Screaming Frog image export\n",
    "extracted_images=pd.read_csv(r\"\"\"images extracted.csv\"\"\", skiprows=1)\n",
    "\n",
    "# Reformatting to have all images in one column\n",
    "melted_images=pd.melt(extracted_images, id_vars=[\"Address\", \"Status Code\", \"Status\"])"
   ]
  },
  {
   "cell_type": "code",
   "execution_count": null,
   "metadata": {
    "collapsed": true
   },
   "outputs": [],
   "source": [
    "# Checking for alt tag\n",
    "melted_images['has_alt']=melted_images.value.str.contains(\"alt\")\n",
    "print(len(melted_images))"
   ]
  },
  {
   "cell_type": "code",
   "execution_count": null,
   "metadata": {
    "collapsed": true
   },
   "outputs": [],
   "source": [
    "# Finding only images with no alt tag and exporting\n",
    "no_alt=melted_images[melted_images['has_alt']==False]\n",
    "\n",
    "print(len(no_alt))\n",
    "no_alt.to_csv(\"images extracted no alt.csv\")"
   ]
  },
  {
   "cell_type": "code",
   "execution_count": null,
   "metadata": {
    "collapsed": false
   },
   "outputs": [],
   "source": [
    "# Finding all images without alt tag on the homepage\n",
    "\n",
    "no_alt_homepage=no_alt[no_alt['Address']==\"https://www.website.com/\"]\n",
    "no_alt_homepage.to_csv(\"homepage images extracted no alt.csv\")"
   ]
  },
  {
   "cell_type": "code",
   "execution_count": null,
   "metadata": {
    "collapsed": false
   },
   "outputs": [],
   "source": [
    "no_alt"
   ]
  },
  {
   "cell_type": "code",
   "execution_count": null,
   "metadata": {
    "collapsed": false
   },
   "outputs": [],
   "source": [
    "# Finding any common patters which could be addressed with a rule\n",
    "\n",
    "counted_images=no_alt[['value', 'Address']].groupby(\"value\").count().sort_values('Address', ascending=False)\n",
    "counted_images=counted_images.rename(columns={'Address':'Count'})\n",
    "counted_images=counted_images.reset_index(level=['value'])\n",
    "example_page=no_alt.drop_duplicates(subset=\"value\")\n",
    "counted_images_with_example=counted_images.merge(example_page[['value','Address','has_alt']], on=\"value\")\n",
    "counted_images=counted_images.rename(columns={'Address':'Example Address'})\n",
    "counted_images_with_example.to_csv(\"patterns in images without alt.csv\")"
   ]
  },
  {
   "cell_type": "code",
   "execution_count": null,
   "metadata": {
    "collapsed": false
   },
   "outputs": [],
   "source": [
    "# Finding all the images that match <img src=\"https://www.website.com/webimages/header/websitelogo.png\"> to see if there is a pattern\n",
    "\n",
    "\n",
    "matches_test=no_alt[no_alt['value']==\"<img src=\\\"https://www.website.com/webimages/header/websitelogo.png\\\">\"]\n",
    "matches_test"
   ]
  },
  {
   "cell_type": "code",
   "execution_count": null,
   "metadata": {
    "collapsed": false
   },
   "outputs": [],
   "source": []
  }
 ],
 "metadata": {
  "kernelspec": {
   "display_name": "Python 3",
   "language": "python",
   "name": "python3"
  },
  "language_info": {
   "codemirror_mode": {
    "name": "ipython",
    "version": 3
   },
   "file_extension": ".py",
   "mimetype": "text/x-python",
   "name": "python",
   "nbconvert_exporter": "python",
   "pygments_lexer": "ipython3",
   "version": "3.6.0"
  }
 },
 "nbformat": 4,
 "nbformat_minor": 2
}
